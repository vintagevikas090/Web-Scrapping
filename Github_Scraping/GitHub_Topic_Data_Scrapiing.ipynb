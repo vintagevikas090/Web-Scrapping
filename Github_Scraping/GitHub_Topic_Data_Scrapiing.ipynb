{
 "cells": [
  {
   "cell_type": "code",
   "execution_count": null,
   "id": "0942ce42",
   "metadata": {},
   "outputs": [],
   "source": [
    "Project Objectives:\n",
    "    \n",
    "    1. Get the list of all featured topics in github\n",
    "    2. get the information about the most trending repos \n",
    "        related to a particular repo\n",
    "    3. Saving the data in csv format in a single folder"
   ]
  },
  {
   "cell_type": "code",
   "execution_count": 1,
   "id": "43ca197a",
   "metadata": {},
   "outputs": [],
   "source": [
    "url = 'https://github.com/topics'"
   ]
  },
  {
   "cell_type": "code",
   "execution_count": 2,
   "id": "2a4190be",
   "metadata": {},
   "outputs": [],
   "source": [
    "import requests\n",
    "from bs4 import BeautifulSoup"
   ]
  },
  {
   "cell_type": "markdown",
   "id": "78b3c314",
   "metadata": {},
   "source": [
    "# TASK 1"
   ]
  },
  {
   "cell_type": "code",
   "execution_count": 3,
   "id": "219bad9d",
   "metadata": {},
   "outputs": [
    {
     "data": {
      "text/plain": [
       "'\\n1. get the name of featured topics\\n2. get the description of those topics\\n3. get the url for those topics\\n '"
      ]
     },
     "execution_count": 3,
     "metadata": {},
     "output_type": "execute_result"
    }
   ],
   "source": [
    "'''\n",
    "1. get the name of featured topics\n",
    "2. get the description of those topics\n",
    "3. get the url for those topics\n",
    " '''"
   ]
  },
  {
   "cell_type": "code",
   "execution_count": 4,
   "id": "a4193741",
   "metadata": {},
   "outputs": [
    {
     "name": "stdout",
     "output_type": "stream",
     "text": [
      "Page Fetched Successfully\n"
     ]
    }
   ],
   "source": [
    "response = requests.get(url)\n",
    "if response.status_code == 200:\n",
    "    print('Page Fetched Successfully')\n",
    "else:\n",
    "    print(\"Page Can't Be Loaded\")"
   ]
  },
  {
   "cell_type": "code",
   "execution_count": 5,
   "id": "dcf9a315",
   "metadata": {},
   "outputs": [],
   "source": [
    "soup = BeautifulSoup(response.text)"
   ]
  },
  {
   "cell_type": "markdown",
   "id": "a865d970",
   "metadata": {},
   "source": [
    "### Get topic Name"
   ]
  },
  {
   "cell_type": "code",
   "execution_count": 6,
   "id": "31b59e34",
   "metadata": {},
   "outputs": [
    {
     "data": {
      "text/plain": [
       "30"
      ]
     },
     "execution_count": 6,
     "metadata": {},
     "output_type": "execute_result"
    }
   ],
   "source": [
    "topic_name_tag = soup.find_all('p', class_ = 'f3 lh-condensed mb-0 mt-1 Link--primary')\n",
    "len(topic_name_tag)"
   ]
  },
  {
   "cell_type": "code",
   "execution_count": 7,
   "id": "1ff36288",
   "metadata": {},
   "outputs": [
    {
     "data": {
      "text/plain": [
       "[<p class=\"f3 lh-condensed mb-0 mt-1 Link--primary\">3D</p>,\n",
       " <p class=\"f3 lh-condensed mb-0 mt-1 Link--primary\">Ajax</p>,\n",
       " <p class=\"f3 lh-condensed mb-0 mt-1 Link--primary\">Algorithm</p>,\n",
       " <p class=\"f3 lh-condensed mb-0 mt-1 Link--primary\">Amp</p>,\n",
       " <p class=\"f3 lh-condensed mb-0 mt-1 Link--primary\">Android</p>]"
      ]
     },
     "execution_count": 7,
     "metadata": {},
     "output_type": "execute_result"
    }
   ],
   "source": [
    "topic_name_tag[:5]"
   ]
  },
  {
   "cell_type": "code",
   "execution_count": 8,
   "id": "0076abd2",
   "metadata": {},
   "outputs": [
    {
     "data": {
      "text/plain": [
       "'3D'"
      ]
     },
     "execution_count": 8,
     "metadata": {},
     "output_type": "execute_result"
    }
   ],
   "source": [
    "topic_name_tag[0].text"
   ]
  },
  {
   "cell_type": "code",
   "execution_count": 9,
   "id": "7a2e5886",
   "metadata": {},
   "outputs": [
    {
     "name": "stdout",
     "output_type": "stream",
     "text": [
      "['3D', 'Ajax', 'Algorithm', 'Amp', 'Android', 'Angular', 'Ansible', 'API', 'Arduino', 'ASP.NET', 'Awesome Lists', 'Amazon Web Services', 'Azure', 'Babel', 'Bash', 'Bitcoin', 'Bootstrap', 'Bot', 'C', 'Chrome', 'Chrome extension', 'Command-line interface', 'Clojure', 'Code quality', 'Code review', 'Compiler', 'Continuous integration', 'C++', 'Cryptocurrency', 'Crystal']\n"
     ]
    }
   ],
   "source": [
    "topic_names = []\n",
    "def get_topic_name():\n",
    "    topic_name_tag = soup.find_all('p', class_ = 'f3 lh-condensed mb-0 mt-1 Link--primary')\n",
    "    for tag in topic_name_tag:\n",
    "        topic_names.append(tag.text)\n",
    "    \n",
    "get_topic_name()    \n",
    "print(topic_names)"
   ]
  },
  {
   "cell_type": "markdown",
   "id": "347a87e2",
   "metadata": {},
   "source": [
    "### Get Topic Description"
   ]
  },
  {
   "cell_type": "code",
   "execution_count": 10,
   "id": "eb2aad4a",
   "metadata": {},
   "outputs": [
    {
     "data": {
      "text/plain": [
       "[<p class=\"f5 color-fg-muted mb-0 mt-1\">\n",
       "           3D refers to the use of three-dimensional graphics, modeling, and animation in various industries.\n",
       "         </p>,\n",
       " <p class=\"f5 color-fg-muted mb-0 mt-1\">\n",
       "           Ajax is a technique for creating interactive web applications.\n",
       "         </p>,\n",
       " <p class=\"f5 color-fg-muted mb-0 mt-1\">\n",
       "           Algorithms are self-contained sequences that carry out a variety of tasks.\n",
       "         </p>,\n",
       " <p class=\"f5 color-fg-muted mb-0 mt-1\">\n",
       "           Amp is a non-blocking concurrency library for PHP.\n",
       "         </p>,\n",
       " <p class=\"f5 color-fg-muted mb-0 mt-1\">\n",
       "           Android is an operating system built by Google designed for mobile devices.\n",
       "         </p>]"
      ]
     },
     "execution_count": 10,
     "metadata": {},
     "output_type": "execute_result"
    }
   ],
   "source": [
    "topic_des = soup.find_all('p', class_ = 'f5 color-fg-muted mb-0 mt-1')\n",
    "topic_des[:5]"
   ]
  },
  {
   "cell_type": "code",
   "execution_count": 11,
   "id": "9b5ec918",
   "metadata": {},
   "outputs": [
    {
     "data": {
      "text/plain": [
       "'\\n          3D refers to the use of three-dimensional graphics, modeling, and animation in various industries.\\n        '"
      ]
     },
     "execution_count": 11,
     "metadata": {},
     "output_type": "execute_result"
    }
   ],
   "source": [
    "topic_des[0].text"
   ]
  },
  {
   "cell_type": "code",
   "execution_count": 12,
   "id": "49eb1470",
   "metadata": {},
   "outputs": [
    {
     "data": {
      "text/plain": [
       "'3D refers to the use of three-dimensional graphics, modeling, and animation in various industries.'"
      ]
     },
     "execution_count": 12,
     "metadata": {},
     "output_type": "execute_result"
    }
   ],
   "source": [
    "topic_des[0].text.strip()"
   ]
  },
  {
   "cell_type": "code",
   "execution_count": 13,
   "id": "63ec38b8",
   "metadata": {},
   "outputs": [
    {
     "name": "stdout",
     "output_type": "stream",
     "text": [
      "['3D refers to the use of three-dimensional graphics, modeling, and animation in various industries.', 'Ajax is a technique for creating interactive web applications.', 'Algorithms are self-contained sequences that carry out a variety of tasks.', 'Amp is a non-blocking concurrency library for PHP.', 'Android is an operating system built by Google designed for mobile devices.', 'Angular is an open source web application platform.', 'Ansible is a simple and powerful automation engine.', 'An API (Application Programming Interface) is a collection of protocols and subroutines for building software.', 'Arduino is an open source platform for building electronic devices.', 'ASP.NET is a web framework for building modern web apps and services.', 'An awesome list is a list of awesome things curated by the community.', 'Amazon Web Services provides on-demand cloud computing platforms on a subscription basis.', 'Azure is a cloud computing service created by Microsoft.', 'Babel is a compiler for writing next generation JavaScript, today.', 'Bash is a shell and command language interpreter for the GNU operating system.', 'Bitcoin is a cryptocurrency developed by Satoshi Nakamoto.', 'Bootstrap is an HTML, CSS, and JavaScript framework.', 'A bot is an application that runs automated tasks over the Internet.', 'C is a general purpose programming language that first appeared in 1972.', 'Chrome is a web browser from the tech company Google.', 'Chrome extensions enable users to customize the Chrome browsing experience.', 'A CLI, or command-line interface, is a console that helps users issue commands to a program.', 'Clojure is a dynamic, general-purpose programming language.', 'Automate your code review with style, quality, security, and test‑coverage checks when you need them.', 'Ensure your code meets quality standards and ship with confidence.', 'Compilers are software that translate higher-level programming languages to lower-level languages (e.g. machine code).', 'Automatically build and test your code as you push it upstream, preventing bugs from being deployed to production.', 'C++ is a general purpose and object-oriented programming language.', 'A cryptocurrency is a digital currency that uses cryptography.', 'Crystal is a self-hosted, general purpose programming language.']\n"
     ]
    }
   ],
   "source": [
    "topic_desc = []\n",
    "def get_topic_desc():\n",
    "    topic_des = soup.find_all('p', class_ = 'f5 color-fg-muted mb-0 mt-1')\n",
    "    for tag in topic_des:\n",
    "        topic_desc.append(tag.text.strip())\n",
    "    \n",
    "get_topic_desc()\n",
    "print(topic_desc)"
   ]
  },
  {
   "cell_type": "markdown",
   "id": "78a25369",
   "metadata": {},
   "source": [
    "### Get URL of Topic"
   ]
  },
  {
   "cell_type": "code",
   "execution_count": 14,
   "id": "6c9eea47",
   "metadata": {},
   "outputs": [
    {
     "data": {
      "text/plain": [
       "[<p class=\"f5 color-fg-muted mb-0 mt-1\">\n",
       "           3D refers to the use of three-dimensional graphics, modeling, and animation in various industries.\n",
       "         </p>,\n",
       " <p class=\"f5 color-fg-muted mb-0 mt-1\">\n",
       "           Ajax is a technique for creating interactive web applications.\n",
       "         </p>]"
      ]
     },
     "execution_count": 14,
     "metadata": {},
     "output_type": "execute_result"
    }
   ],
   "source": [
    "# Method 1\n",
    "\n",
    "soup.find_all('p', class_ = 'f5 color-fg-muted mb-0 mt-1')[:2]"
   ]
  },
  {
   "cell_type": "code",
   "execution_count": 15,
   "id": "dae7e39a",
   "metadata": {},
   "outputs": [
    {
     "data": {
      "text/plain": [
       "<p class=\"f5 color-fg-muted mb-0 mt-1\">\n",
       "          3D refers to the use of three-dimensional graphics, modeling, and animation in various industries.\n",
       "        </p>"
      ]
     },
     "execution_count": 15,
     "metadata": {},
     "output_type": "execute_result"
    }
   ],
   "source": [
    "soup.find_all('p', class_ = 'f5 color-fg-muted mb-0 mt-1')[0]"
   ]
  },
  {
   "cell_type": "code",
   "execution_count": 16,
   "id": "c91271f9",
   "metadata": {},
   "outputs": [
    {
     "data": {
      "text/plain": [
       "<a class=\"no-underline flex-1 d-flex flex-column\" href=\"/topics/3d\">\n",
       "<p class=\"f3 lh-condensed mb-0 mt-1 Link--primary\">3D</p>\n",
       "<p class=\"f5 color-fg-muted mb-0 mt-1\">\n",
       "          3D refers to the use of three-dimensional graphics, modeling, and animation in various industries.\n",
       "        </p>\n",
       "</a>"
      ]
     },
     "execution_count": 16,
     "metadata": {},
     "output_type": "execute_result"
    }
   ],
   "source": [
    "soup.find_all('p', class_ = 'f5 color-fg-muted mb-0 mt-1')[0].parent"
   ]
  },
  {
   "cell_type": "code",
   "execution_count": 17,
   "id": "7ba72639",
   "metadata": {},
   "outputs": [
    {
     "data": {
      "text/plain": [
       "'/topics/3d'"
      ]
     },
     "execution_count": 17,
     "metadata": {},
     "output_type": "execute_result"
    }
   ],
   "source": [
    "soup.find_all('p', class_ = 'f5 color-fg-muted mb-0 mt-1')[0].parent['href']"
   ]
  },
  {
   "cell_type": "code",
   "execution_count": 18,
   "id": "1b260dd7",
   "metadata": {},
   "outputs": [
    {
     "data": {
      "text/plain": [
       "[<a class=\"no-underline flex-1 d-flex flex-column\" href=\"/topics/3d\">\n",
       " <p class=\"f3 lh-condensed mb-0 mt-1 Link--primary\">3D</p>\n",
       " <p class=\"f5 color-fg-muted mb-0 mt-1\">\n",
       "           3D refers to the use of three-dimensional graphics, modeling, and animation in various industries.\n",
       "         </p>\n",
       " </a>,\n",
       " <a class=\"no-underline flex-1 d-flex flex-column\" href=\"/topics/ajax\">\n",
       " <p class=\"f3 lh-condensed mb-0 mt-1 Link--primary\">Ajax</p>\n",
       " <p class=\"f5 color-fg-muted mb-0 mt-1\">\n",
       "           Ajax is a technique for creating interactive web applications.\n",
       "         </p>\n",
       " </a>,\n",
       " <a class=\"no-underline flex-1 d-flex flex-column\" href=\"/topics/algorithm\">\n",
       " <p class=\"f3 lh-condensed mb-0 mt-1 Link--primary\">Algorithm</p>\n",
       " <p class=\"f5 color-fg-muted mb-0 mt-1\">\n",
       "           Algorithms are self-contained sequences that carry out a variety of tasks.\n",
       "         </p>\n",
       " </a>]"
      ]
     },
     "execution_count": 18,
     "metadata": {},
     "output_type": "execute_result"
    }
   ],
   "source": [
    "### Method 2\n",
    "\n",
    "\n",
    "soup.find_all('a', class_ = 'no-underline flex-1 d-flex flex-column')[:3]"
   ]
  },
  {
   "cell_type": "code",
   "execution_count": 19,
   "id": "dfe9cda8",
   "metadata": {},
   "outputs": [
    {
     "data": {
      "text/plain": [
       "<a class=\"no-underline flex-1 d-flex flex-column\" href=\"/topics/3d\">\n",
       "<p class=\"f3 lh-condensed mb-0 mt-1 Link--primary\">3D</p>\n",
       "<p class=\"f5 color-fg-muted mb-0 mt-1\">\n",
       "          3D refers to the use of three-dimensional graphics, modeling, and animation in various industries.\n",
       "        </p>\n",
       "</a>"
      ]
     },
     "execution_count": 19,
     "metadata": {},
     "output_type": "execute_result"
    }
   ],
   "source": [
    "soup.find_all('a', class_ = 'no-underline flex-1 d-flex flex-column')[:3][0]"
   ]
  },
  {
   "cell_type": "code",
   "execution_count": 20,
   "id": "024fac02",
   "metadata": {},
   "outputs": [
    {
     "data": {
      "text/plain": [
       "<a class=\"no-underline flex-1 d-flex flex-column\" href=\"/topics/3d\">\n",
       "<p class=\"f3 lh-condensed mb-0 mt-1 Link--primary\">3D</p>\n",
       "<p class=\"f5 color-fg-muted mb-0 mt-1\">\n",
       "          3D refers to the use of three-dimensional graphics, modeling, and animation in various industries.\n",
       "        </p>\n",
       "</a>"
      ]
     },
     "execution_count": 20,
     "metadata": {},
     "output_type": "execute_result"
    }
   ],
   "source": [
    "soup.find_all('a', class_ = 'no-underline flex-1 d-flex flex-column')[:3][0]"
   ]
  },
  {
   "cell_type": "code",
   "execution_count": 21,
   "id": "f6243b94",
   "metadata": {},
   "outputs": [
    {
     "data": {
      "text/plain": [
       "'/topics/3d'"
      ]
     },
     "execution_count": 21,
     "metadata": {},
     "output_type": "execute_result"
    }
   ],
   "source": [
    "soup.find_all('a', class_ = 'no-underline flex-1 d-flex flex-column')[:3][0]['href']"
   ]
  },
  {
   "cell_type": "code",
   "execution_count": 22,
   "id": "07d2a760",
   "metadata": {},
   "outputs": [
    {
     "name": "stdout",
     "output_type": "stream",
     "text": [
      "['https://github.com/topics/3d', 'https://github.com/topics/ajax', 'https://github.com/topics/algorithm', 'https://github.com/topics/amphp', 'https://github.com/topics/android', 'https://github.com/topics/angular', 'https://github.com/topics/ansible', 'https://github.com/topics/api', 'https://github.com/topics/arduino', 'https://github.com/topics/aspnet', 'https://github.com/topics/awesome', 'https://github.com/topics/aws', 'https://github.com/topics/azure', 'https://github.com/topics/babel', 'https://github.com/topics/bash', 'https://github.com/topics/bitcoin', 'https://github.com/topics/bootstrap', 'https://github.com/topics/bot', 'https://github.com/topics/c', 'https://github.com/topics/chrome', 'https://github.com/topics/chrome-extension', 'https://github.com/topics/cli', 'https://github.com/topics/clojure', 'https://github.com/topics/code-quality', 'https://github.com/topics/code-review', 'https://github.com/topics/compiler', 'https://github.com/topics/continuous-integration', 'https://github.com/topics/cpp', 'https://github.com/topics/cryptocurrency', 'https://github.com/topics/crystal']\n"
     ]
    }
   ],
   "source": [
    "topic_urls = []\n",
    "def get_topic_urls():\n",
    "    topic_des_tag = soup.find_all('p', class_ = 'f5 color-fg-muted mb-0 mt-1')\n",
    "    base_link = 'https://github.com'\n",
    "    for tag in topic_des:\n",
    "        topic_anchor_tag = tag.parent\n",
    "        topic_link = topic_anchor_tag['href']\n",
    "        full_link = base_link + topic_link\n",
    "        topic_urls.append(full_link)\n",
    "get_topic_urls()\n",
    "print(topic_urls)"
   ]
  },
  {
   "cell_type": "code",
   "execution_count": 23,
   "id": "cede7b85",
   "metadata": {},
   "outputs": [
    {
     "data": {
      "text/plain": [
       "'https://github.com/topics/3d'"
      ]
     },
     "execution_count": 23,
     "metadata": {},
     "output_type": "execute_result"
    }
   ],
   "source": [
    "topic_urls[0]"
   ]
  },
  {
   "cell_type": "markdown",
   "id": "4d4ae4f1",
   "metadata": {},
   "source": [
    "### Optimize the Code"
   ]
  },
  {
   "cell_type": "code",
   "execution_count": 24,
   "id": "64521452",
   "metadata": {},
   "outputs": [],
   "source": [
    "## make a single function that gets all 3 list from the url"
   ]
  },
  {
   "cell_type": "code",
   "execution_count": 25,
   "id": "32d3a777",
   "metadata": {},
   "outputs": [],
   "source": [
    "def get_topic_name():\n",
    "    topic_name_tag = soup.find_all('p', class_ = 'f3 lh-condensed mb-0 mt-1 Link--primary')\n",
    "    for tag in topic_name_tag:\n",
    "        topic_names.append(tag.text)\n",
    "\n",
    "\n",
    "def get_topic_desc_urls():\n",
    "    topic_des_tag = soup.find_all('p', class_ = 'f5 color-fg-muted mb-0 mt-1')\n",
    "    base_link = 'https://github.com'\n",
    "    for tag in topic_des_tag:\n",
    "        # for description\n",
    "        topic_desc.append(tag.text.strip())\n",
    "        # for URL\n",
    "        topic_link = tag.parent['href']\n",
    "        full_link = base_link + topic_link\n",
    "        topic_urls.append(full_link)"
   ]
  },
  {
   "cell_type": "code",
   "execution_count": 26,
   "id": "359e1e40",
   "metadata": {},
   "outputs": [],
   "source": [
    "def get_topic_name_desc_urls(url):\n",
    "    response = requests.get(url)\n",
    "    if response.status_code == 200:\n",
    "        print('Page Fetched Successfully')\n",
    "    else:\n",
    "        print(\"Page Can't Be Loaded\")\n",
    "        return {}\n",
    "    \n",
    "    soup = BeautifulSoup(response.text)\n",
    "    \n",
    "    topic_names, topic_desc, topic_urls = [], [], []\n",
    "    \n",
    "    # get topic names\n",
    "    topic_name_tag = soup.find_all('p', class_ = 'f3 lh-condensed mb-0 mt-1 Link--primary')\n",
    "    for tag in topic_name_tag:\n",
    "        topic_names.append(tag.text)\n",
    "\n",
    "    \n",
    "    # get description and URL\n",
    "    topic_des_tag = soup.find_all('p', class_ = 'f5 color-fg-muted mb-0 mt-1')\n",
    "    base_link = 'https://github.com'\n",
    "    for tag in topic_des_tag:\n",
    "        # for description\n",
    "        topic_desc.append(tag.text.strip())\n",
    "        # for URL\n",
    "        topic_link = tag.parent['href']\n",
    "        full_link = base_link + topic_link\n",
    "        topic_urls.append(full_link)\n",
    "        \n",
    "    topic_data = {\n",
    "        'Title': topic_names,\n",
    "        'Description':topic_desc,\n",
    "        'URL':topic_urls\n",
    "    }\n",
    "    \n",
    "    return topic_data"
   ]
  },
  {
   "cell_type": "code",
   "execution_count": 27,
   "id": "3dca893a",
   "metadata": {},
   "outputs": [
    {
     "name": "stdout",
     "output_type": "stream",
     "text": [
      "Page Fetched Successfully\n"
     ]
    }
   ],
   "source": [
    "url = 'https://github.com/topics'\n",
    "data = get_topic_name_desc_urls(url)\n"
   ]
  },
  {
   "cell_type": "code",
   "execution_count": 28,
   "id": "c64761ce",
   "metadata": {},
   "outputs": [
    {
     "name": "stdout",
     "output_type": "stream",
     "text": [
      "['3D', 'Ajax', 'Algorithm', 'Amp', 'Android', 'Angular', 'Ansible', 'API', 'Arduino', 'ASP.NET', 'Awesome Lists', 'Amazon Web Services', 'Azure', 'Babel', 'Bash', 'Bitcoin', 'Bootstrap', 'Bot', 'C', 'Chrome', 'Chrome extension', 'Command-line interface', 'Clojure', 'Code quality', 'Code review', 'Compiler', 'Continuous integration', 'C++', 'Cryptocurrency', 'Crystal']\n"
     ]
    }
   ],
   "source": [
    "print(data['Title'])"
   ]
  },
  {
   "cell_type": "markdown",
   "id": "05329e0e",
   "metadata": {},
   "source": [
    "### Optimising Whole Process"
   ]
  },
  {
   "cell_type": "code",
   "execution_count": 29,
   "id": "9cd365ea",
   "metadata": {},
   "outputs": [],
   "source": [
    "# save the topic name, description and url in a csv file"
   ]
  },
  {
   "cell_type": "code",
   "execution_count": 30,
   "id": "c28fa093",
   "metadata": {},
   "outputs": [],
   "source": [
    "import pandas as pd"
   ]
  },
  {
   "cell_type": "code",
   "execution_count": 31,
   "id": "9dae9da8",
   "metadata": {},
   "outputs": [
    {
     "name": "stdout",
     "output_type": "stream",
     "text": [
      "Page Fetched Successfully\n"
     ]
    }
   ],
   "source": [
    "url = 'https://github.com/topics'\n",
    "data = get_topic_name_desc_urls(url)"
   ]
  },
  {
   "cell_type": "code",
   "execution_count": 32,
   "id": "b17d4717",
   "metadata": {},
   "outputs": [
    {
     "data": {
      "text/html": [
       "<div>\n",
       "<style scoped>\n",
       "    .dataframe tbody tr th:only-of-type {\n",
       "        vertical-align: middle;\n",
       "    }\n",
       "\n",
       "    .dataframe tbody tr th {\n",
       "        vertical-align: top;\n",
       "    }\n",
       "\n",
       "    .dataframe thead th {\n",
       "        text-align: right;\n",
       "    }\n",
       "</style>\n",
       "<table border=\"1\" class=\"dataframe\">\n",
       "  <thead>\n",
       "    <tr style=\"text-align: right;\">\n",
       "      <th></th>\n",
       "      <th>Title</th>\n",
       "      <th>Description</th>\n",
       "      <th>URL</th>\n",
       "    </tr>\n",
       "  </thead>\n",
       "  <tbody>\n",
       "    <tr>\n",
       "      <th>0</th>\n",
       "      <td>3D</td>\n",
       "      <td>3D refers to the use of three-dimensional grap...</td>\n",
       "      <td>https://github.com/topics/3d</td>\n",
       "    </tr>\n",
       "    <tr>\n",
       "      <th>1</th>\n",
       "      <td>Ajax</td>\n",
       "      <td>Ajax is a technique for creating interactive w...</td>\n",
       "      <td>https://github.com/topics/ajax</td>\n",
       "    </tr>\n",
       "    <tr>\n",
       "      <th>2</th>\n",
       "      <td>Algorithm</td>\n",
       "      <td>Algorithms are self-contained sequences that c...</td>\n",
       "      <td>https://github.com/topics/algorithm</td>\n",
       "    </tr>\n",
       "    <tr>\n",
       "      <th>3</th>\n",
       "      <td>Amp</td>\n",
       "      <td>Amp is a non-blocking concurrency library for ...</td>\n",
       "      <td>https://github.com/topics/amphp</td>\n",
       "    </tr>\n",
       "    <tr>\n",
       "      <th>4</th>\n",
       "      <td>Android</td>\n",
       "      <td>Android is an operating system built by Google...</td>\n",
       "      <td>https://github.com/topics/android</td>\n",
       "    </tr>\n",
       "    <tr>\n",
       "      <th>5</th>\n",
       "      <td>Angular</td>\n",
       "      <td>Angular is an open source web application plat...</td>\n",
       "      <td>https://github.com/topics/angular</td>\n",
       "    </tr>\n",
       "    <tr>\n",
       "      <th>6</th>\n",
       "      <td>Ansible</td>\n",
       "      <td>Ansible is a simple and powerful automation en...</td>\n",
       "      <td>https://github.com/topics/ansible</td>\n",
       "    </tr>\n",
       "    <tr>\n",
       "      <th>7</th>\n",
       "      <td>API</td>\n",
       "      <td>An API (Application Programming Interface) is ...</td>\n",
       "      <td>https://github.com/topics/api</td>\n",
       "    </tr>\n",
       "    <tr>\n",
       "      <th>8</th>\n",
       "      <td>Arduino</td>\n",
       "      <td>Arduino is an open source platform for buildin...</td>\n",
       "      <td>https://github.com/topics/arduino</td>\n",
       "    </tr>\n",
       "    <tr>\n",
       "      <th>9</th>\n",
       "      <td>ASP.NET</td>\n",
       "      <td>ASP.NET is a web framework for building modern...</td>\n",
       "      <td>https://github.com/topics/aspnet</td>\n",
       "    </tr>\n",
       "    <tr>\n",
       "      <th>10</th>\n",
       "      <td>Awesome Lists</td>\n",
       "      <td>An awesome list is a list of awesome things cu...</td>\n",
       "      <td>https://github.com/topics/awesome</td>\n",
       "    </tr>\n",
       "    <tr>\n",
       "      <th>11</th>\n",
       "      <td>Amazon Web Services</td>\n",
       "      <td>Amazon Web Services provides on-demand cloud c...</td>\n",
       "      <td>https://github.com/topics/aws</td>\n",
       "    </tr>\n",
       "    <tr>\n",
       "      <th>12</th>\n",
       "      <td>Azure</td>\n",
       "      <td>Azure is a cloud computing service created by ...</td>\n",
       "      <td>https://github.com/topics/azure</td>\n",
       "    </tr>\n",
       "    <tr>\n",
       "      <th>13</th>\n",
       "      <td>Babel</td>\n",
       "      <td>Babel is a compiler for writing next generatio...</td>\n",
       "      <td>https://github.com/topics/babel</td>\n",
       "    </tr>\n",
       "    <tr>\n",
       "      <th>14</th>\n",
       "      <td>Bash</td>\n",
       "      <td>Bash is a shell and command language interpret...</td>\n",
       "      <td>https://github.com/topics/bash</td>\n",
       "    </tr>\n",
       "    <tr>\n",
       "      <th>15</th>\n",
       "      <td>Bitcoin</td>\n",
       "      <td>Bitcoin is a cryptocurrency developed by Satos...</td>\n",
       "      <td>https://github.com/topics/bitcoin</td>\n",
       "    </tr>\n",
       "    <tr>\n",
       "      <th>16</th>\n",
       "      <td>Bootstrap</td>\n",
       "      <td>Bootstrap is an HTML, CSS, and JavaScript fram...</td>\n",
       "      <td>https://github.com/topics/bootstrap</td>\n",
       "    </tr>\n",
       "    <tr>\n",
       "      <th>17</th>\n",
       "      <td>Bot</td>\n",
       "      <td>A bot is an application that runs automated ta...</td>\n",
       "      <td>https://github.com/topics/bot</td>\n",
       "    </tr>\n",
       "    <tr>\n",
       "      <th>18</th>\n",
       "      <td>C</td>\n",
       "      <td>C is a general purpose programming language th...</td>\n",
       "      <td>https://github.com/topics/c</td>\n",
       "    </tr>\n",
       "    <tr>\n",
       "      <th>19</th>\n",
       "      <td>Chrome</td>\n",
       "      <td>Chrome is a web browser from the tech company ...</td>\n",
       "      <td>https://github.com/topics/chrome</td>\n",
       "    </tr>\n",
       "    <tr>\n",
       "      <th>20</th>\n",
       "      <td>Chrome extension</td>\n",
       "      <td>Chrome extensions enable users to customize th...</td>\n",
       "      <td>https://github.com/topics/chrome-extension</td>\n",
       "    </tr>\n",
       "    <tr>\n",
       "      <th>21</th>\n",
       "      <td>Command-line interface</td>\n",
       "      <td>A CLI, or command-line interface, is a console...</td>\n",
       "      <td>https://github.com/topics/cli</td>\n",
       "    </tr>\n",
       "    <tr>\n",
       "      <th>22</th>\n",
       "      <td>Clojure</td>\n",
       "      <td>Clojure is a dynamic, general-purpose programm...</td>\n",
       "      <td>https://github.com/topics/clojure</td>\n",
       "    </tr>\n",
       "    <tr>\n",
       "      <th>23</th>\n",
       "      <td>Code quality</td>\n",
       "      <td>Automate your code review with style, quality,...</td>\n",
       "      <td>https://github.com/topics/code-quality</td>\n",
       "    </tr>\n",
       "    <tr>\n",
       "      <th>24</th>\n",
       "      <td>Code review</td>\n",
       "      <td>Ensure your code meets quality standards and s...</td>\n",
       "      <td>https://github.com/topics/code-review</td>\n",
       "    </tr>\n",
       "    <tr>\n",
       "      <th>25</th>\n",
       "      <td>Compiler</td>\n",
       "      <td>Compilers are software that translate higher-l...</td>\n",
       "      <td>https://github.com/topics/compiler</td>\n",
       "    </tr>\n",
       "    <tr>\n",
       "      <th>26</th>\n",
       "      <td>Continuous integration</td>\n",
       "      <td>Automatically build and test your code as you ...</td>\n",
       "      <td>https://github.com/topics/continuous-integration</td>\n",
       "    </tr>\n",
       "    <tr>\n",
       "      <th>27</th>\n",
       "      <td>C++</td>\n",
       "      <td>C++ is a general purpose and object-oriented p...</td>\n",
       "      <td>https://github.com/topics/cpp</td>\n",
       "    </tr>\n",
       "    <tr>\n",
       "      <th>28</th>\n",
       "      <td>Cryptocurrency</td>\n",
       "      <td>A cryptocurrency is a digital currency that us...</td>\n",
       "      <td>https://github.com/topics/cryptocurrency</td>\n",
       "    </tr>\n",
       "    <tr>\n",
       "      <th>29</th>\n",
       "      <td>Crystal</td>\n",
       "      <td>Crystal is a self-hosted, general purpose prog...</td>\n",
       "      <td>https://github.com/topics/crystal</td>\n",
       "    </tr>\n",
       "  </tbody>\n",
       "</table>\n",
       "</div>"
      ],
      "text/plain": [
       "                     Title                                        Description  \\\n",
       "0                       3D  3D refers to the use of three-dimensional grap...   \n",
       "1                     Ajax  Ajax is a technique for creating interactive w...   \n",
       "2                Algorithm  Algorithms are self-contained sequences that c...   \n",
       "3                      Amp  Amp is a non-blocking concurrency library for ...   \n",
       "4                  Android  Android is an operating system built by Google...   \n",
       "5                  Angular  Angular is an open source web application plat...   \n",
       "6                  Ansible  Ansible is a simple and powerful automation en...   \n",
       "7                      API  An API (Application Programming Interface) is ...   \n",
       "8                  Arduino  Arduino is an open source platform for buildin...   \n",
       "9                  ASP.NET  ASP.NET is a web framework for building modern...   \n",
       "10           Awesome Lists  An awesome list is a list of awesome things cu...   \n",
       "11     Amazon Web Services  Amazon Web Services provides on-demand cloud c...   \n",
       "12                   Azure  Azure is a cloud computing service created by ...   \n",
       "13                   Babel  Babel is a compiler for writing next generatio...   \n",
       "14                    Bash  Bash is a shell and command language interpret...   \n",
       "15                 Bitcoin  Bitcoin is a cryptocurrency developed by Satos...   \n",
       "16               Bootstrap  Bootstrap is an HTML, CSS, and JavaScript fram...   \n",
       "17                     Bot  A bot is an application that runs automated ta...   \n",
       "18                       C  C is a general purpose programming language th...   \n",
       "19                  Chrome  Chrome is a web browser from the tech company ...   \n",
       "20        Chrome extension  Chrome extensions enable users to customize th...   \n",
       "21  Command-line interface  A CLI, or command-line interface, is a console...   \n",
       "22                 Clojure  Clojure is a dynamic, general-purpose programm...   \n",
       "23            Code quality  Automate your code review with style, quality,...   \n",
       "24             Code review  Ensure your code meets quality standards and s...   \n",
       "25                Compiler  Compilers are software that translate higher-l...   \n",
       "26  Continuous integration  Automatically build and test your code as you ...   \n",
       "27                     C++  C++ is a general purpose and object-oriented p...   \n",
       "28          Cryptocurrency  A cryptocurrency is a digital currency that us...   \n",
       "29                 Crystal  Crystal is a self-hosted, general purpose prog...   \n",
       "\n",
       "                                                 URL  \n",
       "0                       https://github.com/topics/3d  \n",
       "1                     https://github.com/topics/ajax  \n",
       "2                https://github.com/topics/algorithm  \n",
       "3                    https://github.com/topics/amphp  \n",
       "4                  https://github.com/topics/android  \n",
       "5                  https://github.com/topics/angular  \n",
       "6                  https://github.com/topics/ansible  \n",
       "7                      https://github.com/topics/api  \n",
       "8                  https://github.com/topics/arduino  \n",
       "9                   https://github.com/topics/aspnet  \n",
       "10                 https://github.com/topics/awesome  \n",
       "11                     https://github.com/topics/aws  \n",
       "12                   https://github.com/topics/azure  \n",
       "13                   https://github.com/topics/babel  \n",
       "14                    https://github.com/topics/bash  \n",
       "15                 https://github.com/topics/bitcoin  \n",
       "16               https://github.com/topics/bootstrap  \n",
       "17                     https://github.com/topics/bot  \n",
       "18                       https://github.com/topics/c  \n",
       "19                  https://github.com/topics/chrome  \n",
       "20        https://github.com/topics/chrome-extension  \n",
       "21                     https://github.com/topics/cli  \n",
       "22                 https://github.com/topics/clojure  \n",
       "23            https://github.com/topics/code-quality  \n",
       "24             https://github.com/topics/code-review  \n",
       "25                https://github.com/topics/compiler  \n",
       "26  https://github.com/topics/continuous-integration  \n",
       "27                     https://github.com/topics/cpp  \n",
       "28          https://github.com/topics/cryptocurrency  \n",
       "29                 https://github.com/topics/crystal  "
      ]
     },
     "execution_count": 32,
     "metadata": {},
     "output_type": "execute_result"
    }
   ],
   "source": [
    "df = pd.DataFrame(data)\n",
    "df"
   ]
  },
  {
   "cell_type": "code",
   "execution_count": 33,
   "id": "a29fe628",
   "metadata": {},
   "outputs": [],
   "source": [
    "df.to_csv('test_data.csv', index = None)"
   ]
  },
  {
   "cell_type": "code",
   "execution_count": 34,
   "id": "c7eb0e2a",
   "metadata": {},
   "outputs": [],
   "source": [
    "def get_topic_name_desc_urls(url):\n",
    "    response = requests.get(url)\n",
    "    if response.status_code == 200:\n",
    "        print('Page Fetched Successfully')\n",
    "    else:\n",
    "        print(\"Page Can't Be Loaded\")\n",
    "        return {}\n",
    "    \n",
    "    soup = BeautifulSoup(response.text)\n",
    "    \n",
    "    topic_names, topic_desc, topic_urls = [], [], []\n",
    "    \n",
    "    # get topic names\n",
    "    topic_name_tag = soup.find_all('p', class_ = 'f3 lh-condensed mb-0 mt-1 Link--primary')\n",
    "    for tag in topic_name_tag:\n",
    "        topic_names.append(tag.text)\n",
    "\n",
    "    \n",
    "    # get description and URL\n",
    "    topic_des_tag = soup.find_all('p', class_ = 'f5 color-fg-muted mb-0 mt-1')\n",
    "    base_link = 'https://github.com'\n",
    "    for tag in topic_des_tag:\n",
    "        # for description\n",
    "        topic_desc.append(tag.text.strip())\n",
    "        # for URL\n",
    "        topic_link = tag.parent['href']\n",
    "        full_link = base_link + topic_link\n",
    "        topic_urls.append(full_link)\n",
    "        \n",
    "    topic_data = {\n",
    "        'Title': topic_names,\n",
    "        'Description':topic_desc,\n",
    "        'URL':topic_urls\n",
    "    }\n",
    "    \n",
    "    return topic_data\n",
    "\n",
    "# Main Function\n",
    "def save_all_data_to_csv(url):\n",
    "    data = get_topic_name_desc_urls(url)\n",
    "\n",
    "    df = pd.DataFrame(data)\n",
    "    df.to_csv('Topic_Data.csv', index = None)\n",
    "    "
   ]
  },
  {
   "cell_type": "code",
   "execution_count": 35,
   "id": "31479dcc",
   "metadata": {},
   "outputs": [
    {
     "name": "stdout",
     "output_type": "stream",
     "text": [
      "Page Fetched Successfully\n"
     ]
    }
   ],
   "source": [
    "url = 'https://github.com/topics'\n",
    "save_all_data_to_csv(url)"
   ]
  },
  {
   "cell_type": "code",
   "execution_count": 36,
   "id": "3d845c1d",
   "metadata": {},
   "outputs": [],
   "source": [
    "########################################## AIM-1 IS DONE ##############################################"
   ]
  },
  {
   "cell_type": "markdown",
   "id": "40110db6",
   "metadata": {},
   "source": [
    "# TASK 2"
   ]
  },
  {
   "cell_type": "code",
   "execution_count": 37,
   "id": "eb564d48",
   "metadata": {},
   "outputs": [
    {
     "data": {
      "text/plain": [
       "'\\nEach of the topic has many repositories related to them.\\nGet the data for 20 repos.\\n\\n    1. Get the name of the Owner of that repo\\n    2. get the name of repo itself\\n    3. get the link to the repo\\n    4. get the No of Stars for that repo\\n'"
      ]
     },
     "execution_count": 37,
     "metadata": {},
     "output_type": "execute_result"
    }
   ],
   "source": [
    "'''\n",
    "Each of the topic has many repositories related to them.\n",
    "Get the data for 20 repos.\n",
    "\n",
    "    1. Get the name of the Owner of that repo\n",
    "    2. get the name of repo itself\n",
    "    3. get the link to the repo\n",
    "    4. get the No of Stars for that repo\n",
    "'''"
   ]
  },
  {
   "cell_type": "code",
   "execution_count": 38,
   "id": "7f455fca",
   "metadata": {},
   "outputs": [],
   "source": [
    "url = 'https://github.com/topics/3d'"
   ]
  },
  {
   "cell_type": "code",
   "execution_count": 39,
   "id": "21e3c9d4",
   "metadata": {},
   "outputs": [
    {
     "name": "stdout",
     "output_type": "stream",
     "text": [
      "Page Fetched Successfully\n"
     ]
    }
   ],
   "source": [
    "response = requests.get(url)\n",
    "if response.status_code == 200:\n",
    "    print('Page Fetched Successfully')\n",
    "else:\n",
    "    print('Problem Loading The Page')"
   ]
  },
  {
   "cell_type": "code",
   "execution_count": 40,
   "id": "a17c661a",
   "metadata": {},
   "outputs": [],
   "source": [
    "soup = BeautifulSoup(response.text)"
   ]
  },
  {
   "cell_type": "markdown",
   "id": "f9cbb801",
   "metadata": {},
   "source": [
    "### For Owner Name, Repo Name and Link"
   ]
  },
  {
   "cell_type": "code",
   "execution_count": 41,
   "id": "694d54fa",
   "metadata": {},
   "outputs": [],
   "source": [
    "h3_tag = soup.find_all('h3', class_= 'f3 color-fg-muted text-normal lh-condensed')"
   ]
  },
  {
   "cell_type": "code",
   "execution_count": 42,
   "id": "017c3c15",
   "metadata": {},
   "outputs": [
    {
     "data": {
      "text/plain": [
       "<h3 class=\"f3 color-fg-muted text-normal lh-condensed\">\n",
       "<a class=\"Link\" data-hydro-click='{\"event_type\":\"explore.click\",\"payload\":{\"click_context\":\"REPOSITORY_CARD\",\"click_target\":\"OWNER\",\"click_visual_representation\":\"REPOSITORY_OWNER_HEADING\",\"actor_id\":null,\"record_id\":97088,\"originating_url\":\"https://github.com/topics/3d\",\"user_id\":null}}' data-hydro-click-hmac=\"c72fbd5c69a8ee7c9c53a4e65de2b93c8fc7552dd793945819639bc165c0f0ba\" data-turbo=\"false\" data-view-component=\"true\" href=\"/mrdoob\">mrdoob</a>          /\n",
       "          <a class=\"Link text-bold wb-break-word\" data-hydro-click='{\"event_type\":\"explore.click\",\"payload\":{\"click_context\":\"REPOSITORY_CARD\",\"click_target\":\"REPOSITORY\",\"click_visual_representation\":\"REPOSITORY_NAME_HEADING\",\"actor_id\":null,\"record_id\":576201,\"originating_url\":\"https://github.com/topics/3d\",\"user_id\":null}}' data-hydro-click-hmac=\"4a2667db3d63a1739c412e059e5da95afe419df83f70949b5d59dc3478f5c79a\" data-turbo=\"false\" data-view-component=\"true\" href=\"/mrdoob/three.js\">three.js</a> </h3>"
      ]
     },
     "execution_count": 42,
     "metadata": {},
     "output_type": "execute_result"
    }
   ],
   "source": [
    "h3_tag[0]"
   ]
  },
  {
   "cell_type": "code",
   "execution_count": 43,
   "id": "0a8b461c",
   "metadata": {},
   "outputs": [
    {
     "data": {
      "text/plain": [
       "[<a class=\"Link\" data-hydro-click='{\"event_type\":\"explore.click\",\"payload\":{\"click_context\":\"REPOSITORY_CARD\",\"click_target\":\"OWNER\",\"click_visual_representation\":\"REPOSITORY_OWNER_HEADING\",\"actor_id\":null,\"record_id\":97088,\"originating_url\":\"https://github.com/topics/3d\",\"user_id\":null}}' data-hydro-click-hmac=\"c72fbd5c69a8ee7c9c53a4e65de2b93c8fc7552dd793945819639bc165c0f0ba\" data-turbo=\"false\" data-view-component=\"true\" href=\"/mrdoob\">mrdoob</a>,\n",
       " <a class=\"Link text-bold wb-break-word\" data-hydro-click='{\"event_type\":\"explore.click\",\"payload\":{\"click_context\":\"REPOSITORY_CARD\",\"click_target\":\"REPOSITORY\",\"click_visual_representation\":\"REPOSITORY_NAME_HEADING\",\"actor_id\":null,\"record_id\":576201,\"originating_url\":\"https://github.com/topics/3d\",\"user_id\":null}}' data-hydro-click-hmac=\"4a2667db3d63a1739c412e059e5da95afe419df83f70949b5d59dc3478f5c79a\" data-turbo=\"false\" data-view-component=\"true\" href=\"/mrdoob/three.js\">three.js</a>]"
      ]
     },
     "execution_count": 43,
     "metadata": {},
     "output_type": "execute_result"
    }
   ],
   "source": [
    "h3_tag[0].find_all('a')"
   ]
  },
  {
   "cell_type": "code",
   "execution_count": 44,
   "id": "8761f19a",
   "metadata": {},
   "outputs": [
    {
     "data": {
      "text/plain": [
       "'mrdoob'"
      ]
     },
     "execution_count": 44,
     "metadata": {},
     "output_type": "execute_result"
    }
   ],
   "source": [
    "owner = h3_tag[0].find_all('a')[0].text\n",
    "owner"
   ]
  },
  {
   "cell_type": "code",
   "execution_count": 45,
   "id": "0e1436a3",
   "metadata": {},
   "outputs": [
    {
     "data": {
      "text/plain": [
       "'three.js'"
      ]
     },
     "execution_count": 45,
     "metadata": {},
     "output_type": "execute_result"
    }
   ],
   "source": [
    "repo_name = h3_tag[0].find_all('a')[1].text\n",
    "repo_name"
   ]
  },
  {
   "cell_type": "code",
   "execution_count": 46,
   "id": "cc82364b",
   "metadata": {},
   "outputs": [
    {
     "data": {
      "text/plain": [
       "'three.js'"
      ]
     },
     "execution_count": 46,
     "metadata": {},
     "output_type": "execute_result"
    }
   ],
   "source": [
    "repo_name = h3_tag[0].find_all('a')[1].text\n",
    "repo_name"
   ]
  },
  {
   "cell_type": "code",
   "execution_count": 47,
   "id": "463bcadb",
   "metadata": {},
   "outputs": [
    {
     "data": {
      "text/plain": [
       "'/mrdoob/three.js'"
      ]
     },
     "execution_count": 47,
     "metadata": {},
     "output_type": "execute_result"
    }
   ],
   "source": [
    "repo_link = h3_tag[0].find_all('a')[1]['href']\n",
    "repo_link"
   ]
  },
  {
   "cell_type": "code",
   "execution_count": 48,
   "id": "fbf2eeaf",
   "metadata": {},
   "outputs": [],
   "source": [
    "def get_owner_repoName_repoLink(url):\n",
    "    response = requests.get(url)\n",
    "    if response.status_code == 200:\n",
    "        print('Page Fetched Successfully')\n",
    "    else:\n",
    "        print('Problem Loading The Page')\n",
    "        return []\n",
    "    \n",
    "    soup = BeautifulSoup(response.text)\n",
    "    \n",
    "    h3_tag = soup.find_all('h3', class_= 'f3 color-fg-muted text-normal lh-condensed')\n",
    "    owner, r_name, r_link = [], [], []\n",
    "    for i in range(len(h3_tag)):\n",
    "        ownr = h3_tag[i].find_all('a')[0].text\n",
    "        owner.append(ownr)\n",
    "        repo_name = h3_tag[i].find_all('a')[1].text\n",
    "        r_name.append(repo_name)\n",
    "        repo_link = h3_tag[i].find_all('a')[1]['href']\n",
    "        full_link = url + repo_link\n",
    "        r_link.append(full_link)\n",
    "        \n",
    "    return [owner, r_name, r_link]"
   ]
  },
  {
   "cell_type": "code",
   "execution_count": 49,
   "id": "cfc6309a",
   "metadata": {},
   "outputs": [
    {
     "name": "stdout",
     "output_type": "stream",
     "text": [
      "Page Fetched Successfully\n"
     ]
    }
   ],
   "source": [
    "temp = get_owner_repoName_repoLink(url)"
   ]
  },
  {
   "cell_type": "code",
   "execution_count": 50,
   "id": "e7c2dddf",
   "metadata": {},
   "outputs": [
    {
     "name": "stdout",
     "output_type": "stream",
     "text": [
      "['mrdoob', 'pmndrs', 'libgdx', 'BabylonJS', 'FreeCAD', 'ssloy', 'lettier', 'aframevr', 'blender', 'CesiumGS', '4ian', 'isl-org', 'MonoGame', 'mapbox', 'metafizzy', 'nerfstudio-project', 'timzhang642', 'cocos', 'FyroxEngine', 'domlysz']\n"
     ]
    }
   ],
   "source": [
    "print(temp[0])"
   ]
  },
  {
   "cell_type": "markdown",
   "id": "dd0893d8",
   "metadata": {},
   "source": [
    "### Getting No Of Stars"
   ]
  },
  {
   "cell_type": "code",
   "execution_count": 51,
   "id": "e022ce0d",
   "metadata": {},
   "outputs": [
    {
     "name": "stdout",
     "output_type": "stream",
     "text": [
      "Page Fetched Successfully\n"
     ]
    }
   ],
   "source": [
    "response = requests.get(url)\n",
    "if response.status_code == 200:\n",
    "    print('Page Fetched Successfully')\n",
    "else:\n",
    "    print('Problem Loading The Page')\n",
    "\n",
    "soup = BeautifulSoup(response.text)"
   ]
  },
  {
   "cell_type": "code",
   "execution_count": 52,
   "id": "a2867aa2",
   "metadata": {},
   "outputs": [
    {
     "data": {
      "text/plain": [
       "<div class=\"BtnGroup d-flex\" data-view-component=\"true\">\n",
       "<a aria-label=\"You must be signed in to star a repository\" class=\"tooltipped tooltipped-sw btn-sm btn color-bg-default\" data-hydro-click='{\"event_type\":\"authentication.click\",\"payload\":{\"location_in_page\":\"star button\",\"repository_id\":576201,\"auth_type\":\"LOG_IN\",\"originating_url\":\"https://github.com/topics/3d\",\"user_id\":null}}' data-hydro-click-hmac=\"b3d3c794f40644792a74ce9463c84e2ee33fe579000d5f1357c3d42a880abe36\" data-view-component=\"true\" href=\"/login?return_to=%2Fmrdoob%2Fthree.js\" rel=\"nofollow\"> <svg aria-hidden=\"true\" class=\"octicon octicon-star v-align-text-bottom d-inline-block mr-2\" data-view-component=\"true\" height=\"16\" version=\"1.1\" viewbox=\"0 0 16 16\" width=\"16\">\n",
       "<path d=\"M8 .25a.75.75 0 0 1 .673.418l1.882 3.815 4.21.612a.75.75 0 0 1 .416 1.279l-3.046 2.97.719 4.192a.751.751 0 0 1-1.088.791L8 12.347l-3.766 1.98a.75.75 0 0 1-1.088-.79l.72-4.194L.818 6.374a.75.75 0 0 1 .416-1.28l4.21-.611L7.327.668A.75.75 0 0 1 8 .25Zm0 2.445L6.615 5.5a.75.75 0 0 1-.564.41l-3.097.45 2.24 2.184a.75.75 0 0 1 .216.664l-.528 3.084 2.769-1.456a.75.75 0 0 1 .698 0l2.77 1.456-.53-3.084a.75.75 0 0 1 .216-.664l2.24-2.183-3.096-.45a.75.75 0 0 1-.564-.41L8 2.694Z\"></path>\n",
       "</svg><span class=\"d-inline\" data-view-component=\"true\">\n",
       "          Star\n",
       "</span> <span aria-label=\"104417 users starred this repository\" class=\"Counter js-social-count\" data-plural-suffix=\"users starred this repository\" data-singular-suffix=\"user starred this repository\" data-turbo-replace=\"true\" data-view-component=\"true\" id=\"repo-stars-counter-star\" title=\"104,417\">104k</span>\n",
       "</a></div>"
      ]
     },
     "execution_count": 52,
     "metadata": {},
     "output_type": "execute_result"
    }
   ],
   "source": [
    "div = soup.find_all('div', class_ = 'BtnGroup d-flex')[0]\n",
    "div"
   ]
  },
  {
   "cell_type": "code",
   "execution_count": 53,
   "id": "08e1fc74",
   "metadata": {},
   "outputs": [
    {
     "data": {
      "text/plain": [
       "<span aria-label=\"104417 users starred this repository\" class=\"Counter js-social-count\" data-plural-suffix=\"users starred this repository\" data-singular-suffix=\"user starred this repository\" data-turbo-replace=\"true\" data-view-component=\"true\" id=\"repo-stars-counter-star\" title=\"104,417\">104k</span>"
      ]
     },
     "execution_count": 53,
     "metadata": {},
     "output_type": "execute_result"
    }
   ],
   "source": [
    "div.find(id = 'repo-stars-counter-star')"
   ]
  },
  {
   "cell_type": "code",
   "execution_count": 54,
   "id": "6d0a42b2",
   "metadata": {},
   "outputs": [
    {
     "data": {
      "text/plain": [
       "'104k'"
      ]
     },
     "execution_count": 54,
     "metadata": {},
     "output_type": "execute_result"
    }
   ],
   "source": [
    "div.find(id = 'repo-stars-counter-star').text"
   ]
  },
  {
   "cell_type": "code",
   "execution_count": 55,
   "id": "c877ae99",
   "metadata": {},
   "outputs": [
    {
     "name": "stdout",
     "output_type": "stream",
     "text": [
      "['104k', '28.2k', '23.8k', '23.6k', '23.1k', '21.3k', '18.4k', '16.9k', '14.2k', '13.3k', '12.9k', '11.9k', '11.8k', '11.4k', '10.4k', '9.9k', '9.9k', '8.4k', '8k', '8k']\n"
     ]
    }
   ],
   "source": [
    "stars_count = []\n",
    "def get_no_of_stars():\n",
    "    all_divs = soup.find_all('div', class_ = 'BtnGroup d-flex')\n",
    "    for div in all_divs:\n",
    "        span = div.find(id = 'repo-stars-counter-star')\n",
    "        star = span.text\n",
    "        stars_count.append(star)\n",
    "        \n",
    "get_no_of_stars()\n",
    "print(stars_count)"
   ]
  },
  {
   "cell_type": "code",
   "execution_count": 56,
   "id": "57e88223",
   "metadata": {},
   "outputs": [],
   "source": [
    "def parse_no_of_stars(star_str):\n",
    "    if star_str[-1] == 'k':\n",
    "        return int(float(star_str[:-1])*1000)\n",
    "    return int(star_str) * 1000"
   ]
  },
  {
   "cell_type": "code",
   "execution_count": 57,
   "id": "5d0244b2",
   "metadata": {},
   "outputs": [
    {
     "name": "stdout",
     "output_type": "stream",
     "text": [
      "[104000, 28200, 23800, 23600, 23100, 21300, 18400, 16900, 14200, 13300, 12900, 11900, 11800, 11400, 10400, 9900, 9900, 8400, 8000, 8000]\n"
     ]
    }
   ],
   "source": [
    "stars_count = []\n",
    "def get_no_of_stars():\n",
    "    all_divs = soup.find_all('div', class_ = 'BtnGroup d-flex')\n",
    "    for div in all_divs:\n",
    "        span = div.find(id = 'repo-stars-counter-star')\n",
    "        star = span.text\n",
    "        star_int = parse_no_of_stars(star)\n",
    "        stars_count.append(star_int)\n",
    "        \n",
    "get_no_of_stars()\n",
    "print(stars_count)"
   ]
  },
  {
   "cell_type": "markdown",
   "id": "111072fd",
   "metadata": {},
   "source": [
    "### All in One Function"
   ]
  },
  {
   "cell_type": "code",
   "execution_count": 58,
   "id": "d1ba441b",
   "metadata": {},
   "outputs": [],
   "source": [
    "def get_data_of_topic(url):\n",
    "    response = requests.get(url)\n",
    "    if response.status_code == 200:\n",
    "        print('Page Fetched Successfully')\n",
    "    else:\n",
    "        print('Problem Loading The Page')\n",
    "        return {}\n",
    "    \n",
    "    soup = BeautifulSoup(response.text)\n",
    "    \n",
    "    h3_tag = soup.find_all('h3', class_= 'f3 color-fg-muted text-normal lh-condensed')\n",
    "    owner, r_name, r_link, stars_count =[], [], [], []\n",
    "    for i in range(len(h3_tag)):\n",
    "        ownr = h3_tag[i].find_all('a')[0].text\n",
    "        owner.append(ownr)\n",
    "        repo_name = h3_tag[i].find_all('a')[1].text\n",
    "        r_name.append(repo_name)\n",
    "        repo_link = h3_tag[i].find_all('a')[1]['href']\n",
    "        full_link = url + repo_link\n",
    "        r_link.append(full_link)\n",
    "        \n",
    "    # for stars number\n",
    "    all_divs = soup.find_all('div', class_ = 'BtnGroup d-flex')\n",
    "    for div in all_divs:\n",
    "        span = div.find(id = 'repo-stars-counter-star')\n",
    "        star = span.text\n",
    "        star_int = parse_no_of_stars(star)\n",
    "        stars_count.append(star_int)\n",
    "    \n",
    "    data = {\n",
    "        'Owner': owner,\n",
    "        'Repository Name': r_name, \n",
    "        'Repository Link': r_link,\n",
    "        'Star Count': stars_count\n",
    "    }\n",
    "\n",
    "    return data"
   ]
  },
  {
   "cell_type": "code",
   "execution_count": 59,
   "id": "cdebae9b",
   "metadata": {},
   "outputs": [],
   "source": [
    "url = 'https://github.com/topics/3d'"
   ]
  },
  {
   "cell_type": "code",
   "execution_count": 60,
   "id": "2dc07748",
   "metadata": {},
   "outputs": [
    {
     "name": "stdout",
     "output_type": "stream",
     "text": [
      "Page Fetched Successfully\n"
     ]
    }
   ],
   "source": [
    "data = get_data_of_topic(url)"
   ]
  },
  {
   "cell_type": "code",
   "execution_count": 61,
   "id": "3da78bd2",
   "metadata": {},
   "outputs": [
    {
     "name": "stdout",
     "output_type": "stream",
     "text": [
      "['mrdoob', 'pmndrs', 'libgdx', 'BabylonJS', 'FreeCAD', 'ssloy', 'lettier', 'aframevr', 'blender', 'CesiumGS', '4ian', 'isl-org', 'MonoGame', 'mapbox', 'metafizzy', 'nerfstudio-project', 'timzhang642', 'cocos', 'FyroxEngine', 'domlysz']\n"
     ]
    }
   ],
   "source": [
    "print(data['Owner'])"
   ]
  },
  {
   "cell_type": "code",
   "execution_count": 62,
   "id": "7d5eee96",
   "metadata": {},
   "outputs": [],
   "source": [
    "url = 'https://github.com/topics/3d'"
   ]
  },
  {
   "cell_type": "code",
   "execution_count": 63,
   "id": "9e12a96c",
   "metadata": {},
   "outputs": [
    {
     "name": "stdout",
     "output_type": "stream",
     "text": [
      "Page Fetched Successfully\n"
     ]
    }
   ],
   "source": [
    "def get_data_of_topic(url):\n",
    "    response = requests.get(url)\n",
    "    if response.status_code == 200:\n",
    "        print('Page Fetched Successfully')\n",
    "    else:\n",
    "        print('Problem Loading The Page')\n",
    "        return {}\n",
    "    \n",
    "    soup = BeautifulSoup(response.text)\n",
    "    \n",
    "    h3_tag = soup.find_all('h3', class_= 'f3 color-fg-muted text-normal lh-condensed')\n",
    "    owner, r_name, r_link, stars_count =[], [], [], []\n",
    "    for i in range(len(h3_tag)):\n",
    "        ownr = h3_tag[i].find_all('a')[0].text\n",
    "        owner.append(ownr)\n",
    "        repo_name = h3_tag[i].find_all('a')[1].text\n",
    "        r_name.append(repo_name)\n",
    "        repo_link = h3_tag[i].find_all('a')[1]['href']\n",
    "        full_link = url + repo_link\n",
    "        r_link.append(full_link)\n",
    "        \n",
    "    # for stars number\n",
    "    all_divs = soup.find_all('div', class_ = 'BtnGroup d-flex')\n",
    "    for div in all_divs:\n",
    "        span = div.find(id = 'repo-stars-counter-star')\n",
    "        star = span.text\n",
    "        star_int = parse_no_of_stars(star)\n",
    "        stars_count.append(star_int)\n",
    "    \n",
    "    data = {\n",
    "        'Owner': owner,\n",
    "        'Repository Name': r_name, \n",
    "        'Repository Link': r_link,\n",
    "        'Star Count': stars_count\n",
    "    }\n",
    "\n",
    "    return data\n",
    "\n",
    "\n",
    "def save_data_to_csv_file(url):\n",
    "    data = get_data_of_topic(url)\n",
    "    df = pd.DataFrame(data)\n",
    "    df.to_csv('trial_save_3d.csv', index = None)\n",
    "    \n",
    "save_data_to_csv_file(url)"
   ]
  },
  {
   "cell_type": "markdown",
   "id": "0e929806",
   "metadata": {},
   "source": [
    "# TASK 3"
   ]
  },
  {
   "cell_type": "code",
   "execution_count": 64,
   "id": "f1f465c0",
   "metadata": {},
   "outputs": [],
   "source": [
    "### Save all data (Owner Name, Repo Name, Repo Link, No of Stars) for each topic"
   ]
  },
  {
   "cell_type": "code",
   "execution_count": 65,
   "id": "f199844a",
   "metadata": {},
   "outputs": [
    {
     "name": "stdout",
     "output_type": "stream",
     "text": [
      "Page Fetched Successfully\n",
      "['https://github.com/topics/3d', 'https://github.com/topics/ajax', 'https://github.com/topics/algorithm', 'https://github.com/topics/amphp', 'https://github.com/topics/android', 'https://github.com/topics/angular', 'https://github.com/topics/ansible', 'https://github.com/topics/api', 'https://github.com/topics/arduino', 'https://github.com/topics/aspnet', 'https://github.com/topics/awesome', 'https://github.com/topics/aws', 'https://github.com/topics/azure', 'https://github.com/topics/babel', 'https://github.com/topics/bash', 'https://github.com/topics/bitcoin', 'https://github.com/topics/bootstrap', 'https://github.com/topics/bot', 'https://github.com/topics/c', 'https://github.com/topics/chrome', 'https://github.com/topics/chrome-extension', 'https://github.com/topics/cli', 'https://github.com/topics/clojure', 'https://github.com/topics/code-quality', 'https://github.com/topics/code-review', 'https://github.com/topics/compiler', 'https://github.com/topics/continuous-integration', 'https://github.com/topics/cpp', 'https://github.com/topics/cryptocurrency', 'https://github.com/topics/crystal']\n"
     ]
    }
   ],
   "source": [
    "main_url = 'https://github.com/topics'\n",
    "topic_urls = []\n",
    "def get_topic_urls(main_url):\n",
    "    \n",
    "    response = requests.get(main_url)\n",
    "    if response.status_code == 200:\n",
    "        print('Page Fetched Successfully')\n",
    "    else:\n",
    "        print('Problem Loading The Page')\n",
    "        return {}\n",
    "    \n",
    "    soup = BeautifulSoup(response.text)\n",
    "    \n",
    "    topic_des_tag = soup.find_all('p', class_ = 'f5 color-fg-muted mb-0 mt-1')\n",
    "    base_link = 'https://github.com'\n",
    "    \n",
    "    for tag in topic_des:\n",
    "        topic_anchor_tag = tag.parent\n",
    "        topic_link = topic_anchor_tag['href']\n",
    "        full_link = base_link + topic_link\n",
    "        topic_urls.append(full_link)\n",
    "get_topic_urls(main_url)\n",
    "print(topic_urls)"
   ]
  },
  {
   "cell_type": "code",
   "execution_count": 66,
   "id": "52f9ab44",
   "metadata": {},
   "outputs": [
    {
     "name": "stdout",
     "output_type": "stream",
     "text": [
      "['https:', '', 'github.com', 'topics', '3d']\n"
     ]
    },
    {
     "data": {
      "text/plain": [
       "'3d'"
      ]
     },
     "execution_count": 66,
     "metadata": {},
     "output_type": "execute_result"
    }
   ],
   "source": [
    "p = 'https://github.com/topics/3d'\n",
    "print(p.split('/'))\n",
    "p.split('/')[-1]"
   ]
  },
  {
   "cell_type": "code",
   "execution_count": 67,
   "id": "665453df",
   "metadata": {},
   "outputs": [],
   "source": [
    "def get_data_of_topic(url):\n",
    "    response = requests.get(url)\n",
    "    if response.status_code == 200:\n",
    "        print(f'{url} loaded successfully')\n",
    "    else:\n",
    "        print('Problem Loading The Page')\n",
    "        return {}\n",
    "    \n",
    "    soup = BeautifulSoup(response.text)\n",
    "    \n",
    "    h3_tag = soup.find_all('h3', class_= 'f3 color-fg-muted text-normal lh-condensed')\n",
    "    owner, r_name, r_link, stars_count =[], [], [], []\n",
    "    for i in range(len(h3_tag)):\n",
    "        ownr = h3_tag[i].find_all('a')[0].text\n",
    "        owner.append(ownr)\n",
    "        repo_name = h3_tag[i].find_all('a')[1].text\n",
    "        r_name.append(repo_name)\n",
    "        repo_link = h3_tag[i].find_all('a')[1]['href']\n",
    "        full_link = url + repo_link\n",
    "        r_link.append(full_link)\n",
    "        \n",
    "    # for stars number\n",
    "    all_divs = soup.find_all('div', class_ = 'BtnGroup d-flex')\n",
    "    for div in all_divs:\n",
    "        span = div.find(id = 'repo-stars-counter-star')\n",
    "        star = span.text\n",
    "        star_int = parse_no_of_stars(star)\n",
    "        stars_count.append(star_int)\n",
    "    \n",
    "    data = {\n",
    "        'Owner': owner,\n",
    "        'Repository Name': r_name, \n",
    "        'Repository Link': r_link,\n",
    "        'Star Count': stars_count\n",
    "    }\n",
    "\n",
    "    return data"
   ]
  },
  {
   "cell_type": "code",
   "execution_count": 68,
   "id": "00042e88",
   "metadata": {},
   "outputs": [],
   "source": [
    "# def save_data_to_csv_file(url, file_name):\n",
    "#     data = get_data_of_topic(url)\n",
    "#     df = pd.DataFrame(data)\n",
    "#     df.to_csv(file_name, index = None)\n",
    "\n",
    "# for url in topic_urls:\n",
    "#     topic_name = url.split('/')[-1]\n",
    "#     file_name = topic_name + '.csv'\n",
    "#     save_data_to_csv_file(url, file_name)"
   ]
  },
  {
   "cell_type": "code",
   "execution_count": 69,
   "id": "4cb416af",
   "metadata": {},
   "outputs": [],
   "source": [
    "import os"
   ]
  },
  {
   "cell_type": "code",
   "execution_count": 70,
   "id": "658d185f",
   "metadata": {},
   "outputs": [],
   "source": [
    "## make a final function and save all csv files into a single folder"
   ]
  },
  {
   "cell_type": "code",
   "execution_count": 71,
   "id": "393278ba",
   "metadata": {},
   "outputs": [
    {
     "data": {
      "text/plain": [
       "True"
      ]
     },
     "execution_count": 71,
     "metadata": {},
     "output_type": "execute_result"
    }
   ],
   "source": [
    "os.path.exists('Final Data')"
   ]
  },
  {
   "cell_type": "code",
   "execution_count": 72,
   "id": "ef4ebf63",
   "metadata": {},
   "outputs": [],
   "source": [
    "if not os.path.exists('Final Data'):\n",
    "    os.mkdir('Final Data')"
   ]
  },
  {
   "cell_type": "code",
   "execution_count": 77,
   "id": "0487a1b3",
   "metadata": {},
   "outputs": [
    {
     "data": {
      "text/plain": [
       "'Final Data/three_d.csv'"
      ]
     },
     "execution_count": 77,
     "metadata": {},
     "output_type": "execute_result"
    }
   ],
   "source": [
    "file_path = os.path.join('Final Data', 'three_d.csv')\n",
    "file_path"
   ]
  },
  {
   "cell_type": "code",
   "execution_count": null,
   "id": "719ed894",
   "metadata": {},
   "outputs": [],
   "source": [
    "p.to_csv(file_path, index = None)"
   ]
  },
  {
   "cell_type": "code",
   "execution_count": 82,
   "id": "415b1e25",
   "metadata": {},
   "outputs": [],
   "source": [
    "def get_topic_urls(main_url):\n",
    "    response = requests.get(main_url)\n",
    "    if response.status_code == 200:\n",
    "        print(f'{main_url} loaded Successfully')\n",
    "    else:\n",
    "        print('Problem Loading The Page')\n",
    "        return []\n",
    "    \n",
    "    soup = BeautifulSoup(response.text)\n",
    "    \n",
    "    topic_des_tag = soup.find_all('p', class_ = 'f5 color-fg-muted mb-0 mt-1')\n",
    "    base_link = 'https://github.com'\n",
    "    \n",
    "    topic_urls = []\n",
    "    for tag in topic_des:\n",
    "        topic_anchor_tag = tag.parent\n",
    "        topic_link = topic_anchor_tag['href']\n",
    "        full_link = base_link + topic_link\n",
    "        topic_urls.append(full_link)\n",
    "    return topic_urls\n",
    "    \n",
    "def get_data_of_topic(url):\n",
    "    response = requests.get(url)\n",
    "    \n",
    "    soup = BeautifulSoup(response.text)\n",
    "    h3_tag = soup.find_all('h3', class_= 'f3 color-fg-muted text-normal lh-condensed')\n",
    "    \n",
    "    owner, r_name, r_link, stars_count =[], [], [], []\n",
    "    for i in range(len(h3_tag)):\n",
    "        ownr = h3_tag[i].find_all('a')[0].text\n",
    "        owner.append(ownr)\n",
    "        repo_name = h3_tag[i].find_all('a')[1].text\n",
    "        r_name.append(repo_name)\n",
    "        repo_link = h3_tag[i].find_all('a')[1]['href']\n",
    "        full_link = url + repo_link\n",
    "        r_link.append(full_link)\n",
    "        \n",
    "    # for stars number\n",
    "    all_divs = soup.find_all('div', class_ = 'BtnGroup d-flex')\n",
    "    for div in all_divs:\n",
    "        span = div.find(id = 'repo-stars-counter-star')\n",
    "        star = span.text\n",
    "        star_int = parse_no_of_stars(star)\n",
    "        stars_count.append(star_int)\n",
    "    \n",
    "    data = {\n",
    "        'Owner': owner,\n",
    "        'Repository Name': r_name, \n",
    "        'Repository Link': r_link,\n",
    "        'Star Count': stars_count\n",
    "    }\n",
    "\n",
    "    return data\n",
    "\n",
    "def save_data_to_csv_file(url, file_name):\n",
    "    data = get_data_of_topic(url)\n",
    "    df = pd.DataFrame(data)\n",
    "    \n",
    "    if not os.path.exists('Final Data'):\n",
    "        os.mkdir('Final Data')\n",
    "        \n",
    "    file_path = os.path.join('Final Data', file_name)\n",
    "    if os.path.exists(file_path):\n",
    "        print(f'File \"{file_name}\" already exists, skipping....')\n",
    "        return \n",
    "    \n",
    "    print(f'Writing Topic \"{file_name}\" into File')\n",
    "    df.to_csv(file_path, index = None)\n",
    "    \n",
    "def final_func(main_url):\n",
    "    url_list = get_topic_urls(main_url)\n",
    "    \n",
    "    if len(url_list) == 0:\n",
    "        print(f'Error loading the page at \"{main_url}\"')\n",
    "        return \n",
    "    \n",
    "    for url in url_list:\n",
    "        file_name = url.strip().split('/')[-1]\n",
    "        file_name += '.csv'\n",
    "        save_data_to_csv_file(url, file_name)\n",
    "        \n",
    "    print('------------------------------------------------------------')\n",
    "    print('SUCCESSFULLY DONE!!!!')"
   ]
  },
  {
   "cell_type": "code",
   "execution_count": 83,
   "id": "9cc7544d",
   "metadata": {},
   "outputs": [
    {
     "name": "stdout",
     "output_type": "stream",
     "text": [
      "https://github.com/topics loaded Successfully\n",
      "File \"3d.csv\" already exists, skipping....\n",
      "File \"ajax.csv\" already exists, skipping....\n",
      "File \"algorithm.csv\" already exists, skipping....\n",
      "File \"amphp.csv\" already exists, skipping....\n",
      "File \"android.csv\" already exists, skipping....\n",
      "File \"angular.csv\" already exists, skipping....\n",
      "File \"ansible.csv\" already exists, skipping....\n",
      "File \"api.csv\" already exists, skipping....\n",
      "File \"arduino.csv\" already exists, skipping....\n",
      "File \"aspnet.csv\" already exists, skipping....\n",
      "File \"awesome.csv\" already exists, skipping....\n",
      "File \"aws.csv\" already exists, skipping....\n",
      "File \"azure.csv\" already exists, skipping....\n",
      "File \"babel.csv\" already exists, skipping....\n",
      "File \"bash.csv\" already exists, skipping....\n",
      "File \"bitcoin.csv\" already exists, skipping....\n",
      "File \"bootstrap.csv\" already exists, skipping....\n",
      "File \"bot.csv\" already exists, skipping....\n",
      "File \"c.csv\" already exists, skipping....\n",
      "File \"chrome.csv\" already exists, skipping....\n",
      "File \"chrome-extension.csv\" already exists, skipping....\n",
      "File \"cli.csv\" already exists, skipping....\n",
      "File \"clojure.csv\" already exists, skipping....\n",
      "File \"code-quality.csv\" already exists, skipping....\n",
      "File \"code-review.csv\" already exists, skipping....\n",
      "File \"compiler.csv\" already exists, skipping....\n",
      "File \"continuous-integration.csv\" already exists, skipping....\n",
      "File \"cpp.csv\" already exists, skipping....\n",
      "File \"cryptocurrency.csv\" already exists, skipping....\n",
      "File \"crystal.csv\" already exists, skipping....\n",
      "------------------------------------------------------------\n",
      "SUCCESSFULLY DONE!!!!\n"
     ]
    }
   ],
   "source": [
    "main_link = 'https://github.com/topics'\n",
    "final_func(main_link)"
   ]
  },
  {
   "cell_type": "code",
   "execution_count": null,
   "id": "5c1714f3",
   "metadata": {},
   "outputs": [],
   "source": [
    "\n"
   ]
  }
 ],
 "metadata": {
  "kernelspec": {
   "display_name": "Python 3 (ipykernel)",
   "language": "python",
   "name": "python3"
  },
  "language_info": {
   "codemirror_mode": {
    "name": "ipython",
    "version": 3
   },
   "file_extension": ".py",
   "mimetype": "text/x-python",
   "name": "python",
   "nbconvert_exporter": "python",
   "pygments_lexer": "ipython3",
   "version": "3.11.5"
  }
 },
 "nbformat": 4,
 "nbformat_minor": 5
}
